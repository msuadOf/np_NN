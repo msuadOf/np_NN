{
 "cells": [
  {
   "cell_type": "code",
   "execution_count": 121,
   "id": "72dc0892-2763-4ab2-83ac-46481ff003de",
   "metadata": {},
   "outputs": [
    {
     "name": "stderr",
     "output_type": "stream",
     "text": [
      "376198.01s - pydevd: Sending message related to process being replaced timed-out after 5 seconds\n"
     ]
    },
    {
     "name": "stdout",
     "output_type": "stream",
     "text": [
      "Looking in indexes: https://mirrors.cloud.tencent.com/pypi/simple\n",
      "Requirement already satisfied: numpy in ./venv/lib/python3.10/site-packages (2.0.1)\n",
      "Note: you may need to restart the kernel to use updated packages.\n"
     ]
    }
   ],
   "source": [
    "%pip install numpy\n",
    "import numpy as np"
   ]
  },
  {
   "cell_type": "code",
   "execution_count": 122,
   "id": "c9967205-6aa8-40a1-a8e5-f9382d90aa2b",
   "metadata": {},
   "outputs": [],
   "source": [
    "def tanh(x):\n",
    "    return np.tanh(x)"
   ]
  },
  {
   "cell_type": "code",
   "execution_count": 123,
   "id": "0ed436ac-54f3-423e-9232-b96f2f0cea4b",
   "metadata": {},
   "outputs": [],
   "source": [
    "def softmax(x):\n",
    "    exp=np.exp(x-x.max())\n",
    "    return exp/exp.sum()"
   ]
  },
  {
   "cell_type": "code",
   "execution_count": 124,
   "id": "7b79de76-51e9-4bc4-8111-011a934691f6",
   "metadata": {},
   "outputs": [],
   "source": [
    "test=[1,2,3]\n",
    "test=np.array(test)"
   ]
  },
  {
   "cell_type": "code",
   "execution_count": 125,
   "id": "1a650ff3-ae5a-4187-b965-632e74ef810b",
   "metadata": {},
   "outputs": [
    {
     "data": {
      "text/plain": [
       "array([-2, -1,  0])"
      ]
     },
     "execution_count": 125,
     "metadata": {},
     "output_type": "execute_result"
    }
   ],
   "source": [
    "np.exp(test)\n",
    "test-test.max()"
   ]
  },
  {
   "cell_type": "code",
   "execution_count": 126,
   "id": "244abbaf-6879-4f4e-9e4c-4e1edb0b0b6c",
   "metadata": {},
   "outputs": [],
   "source": [
    "import math\n",
    "dim=[28*28,10]\n",
    "act=[tanh,softmax]\n",
    "dis=[\n",
    "    {'b':[0,0]},\n",
    "    {'b':[0,0],'w':[-math.sqrt(6/(dim[0]+dim[1])),math.sqrt(6/(dim[0]+dim[1]))]}\n",
    "]"
   ]
  },
  {
   "cell_type": "code",
   "execution_count": 127,
   "id": "24f8d6de-2334-46ac-949f-eb0667b12a43",
   "metadata": {},
   "outputs": [],
   "source": [
    "def init_para_b(layer):\n",
    "    dist=dis[layer]['b']\n",
    "    return np.random.rand(dim[layer]) * (dist[1]-dist[0]) + dist[0]\n",
    "def init_para_w(layer):\n",
    "    dist=dis[layer]['w']\n",
    "    return np.random.rand(dim[layer-1],dim[layer]) * (dist[1]-dist[0]) + dist[0]\n",
    "def init_para():\n",
    "    para=[]\n",
    "    for i in range(len(dis)):\n",
    "        layer_para={}\n",
    "        for j in dis[i].keys():\n",
    "            if j=='b':\n",
    "                layer_para['b']=init_para_b(i)\n",
    "            elif j=='w':\n",
    "                layer_para['w']=init_para_w(i)\n",
    "        para.append(layer_para)\n",
    "    return para\n",
    "def predict(img,para):\n",
    "    l0_in=img+para[0]['b']\n",
    "    l0_out=act[0](l0_in)\n",
    "    l1_in=np.dot(l0_out,para[1]['w'])+para[1]['b']\n",
    "    l1_out=act[1](l1_in)\n",
    "    return l1_out\n",
    "    \n"
   ]
  },
  {
   "cell_type": "code",
   "execution_count": 128,
   "id": "20290ae7",
   "metadata": {},
   "outputs": [
    {
     "data": {
      "text/plain": [
       "(784,)"
      ]
     },
     "execution_count": 128,
     "metadata": {},
     "output_type": "execute_result"
    }
   ],
   "source": [
    "np.random.rand(784).shape"
   ]
  },
  {
   "cell_type": "code",
   "execution_count": 129,
   "id": "0d163ab9",
   "metadata": {},
   "outputs": [
    {
     "data": {
      "text/plain": [
       "np.int64(1)"
      ]
     },
     "execution_count": 129,
     "metadata": {},
     "output_type": "execute_result"
    }
   ],
   "source": [
    "para=init_para()\n",
    "predict(np.random.rand(784),para).argmax()"
   ]
  },
  {
   "cell_type": "code",
   "execution_count": null,
   "id": "b7e43516",
   "metadata": {},
   "outputs": [],
   "source": []
  }
 ],
 "metadata": {
  "kernelspec": {
   "display_name": "Python 3 (ipykernel)",
   "language": "python",
   "name": "python3"
  }
 },
 "nbformat": 4,
 "nbformat_minor": 5
}
